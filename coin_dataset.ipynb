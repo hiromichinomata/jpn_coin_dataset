{
 "cells": [
  {
   "cell_type": "markdown",
   "metadata": {
    "slideshow": {
     "slide_type": "slide"
    }
   },
   "source": [
    "# Japanese Coin SSD-Dataset Generator\n",
    "\n",
    "日本の硬貨でSSDのデータセットをたくさん作るやつ\n",
    "\n",
    "- 出力形式はVOCデータセットと同じような感じ\n",
    "- アノテーションはxmlで出力\n",
    "- ChainerCVのSSDサンプルで学習データセット形式として利用可能"
   ]
  },
  {
   "cell_type": "code",
   "execution_count": 48,
   "metadata": {
    "slideshow": {
     "slide_type": "slide"
    }
   },
   "outputs": [],
   "source": [
    "from glob import glob\n",
    "from PIL import Image, ImageDraw, ImageEnhance\n",
    "import numpy as np\n",
    "import copy\n",
    "import os\n",
    "import shutil\n",
    "from dicttoxml import dicttoxml\n",
    "from xml.dom.minidom import parseString\n",
    "from xml.etree import ElementTree"
   ]
  },
  {
   "cell_type": "markdown",
   "metadata": {
    "slideshow": {
     "slide_type": "slide"
    }
   },
   "source": [
    "## 諸関数の定義"
   ]
  },
  {
   "cell_type": "code",
   "execution_count": 49,
   "metadata": {
    "scrolled": true,
    "slideshow": {
     "slide_type": "slide"
    }
   },
   "outputs": [],
   "source": [
    "# テクスチャのどれかを選択し、規定サイズに切り抜く\n",
    "def get_back_img(_tex_img_list, is_rotate=True):\n",
    "    # ランダムにテクスチャを切り出し\n",
    "    tex_crop_start_x = np.random.randint(TEX_BASE_SIZE-IMG_SIZE)\n",
    "    tex_crop_start_y = np.random.randint(TEX_BASE_SIZE-IMG_SIZE)\n",
    "    crop_rect = (tex_crop_start_x, tex_crop_start_y, tex_crop_start_x + IMG_SIZE, tex_crop_start_y + IMG_SIZE)\n",
    "    #print crop_rect\n",
    "\n",
    "    tex_img_select = _tex_img_list[np.random.randint(len(_tex_img_list))]\n",
    "    tex_img = tex_img_select.crop(crop_rect)\n",
    "    if is_rotate:\n",
    "        tex_img = tex_img.rotate(np.random.randint(4)*90)\n",
    "    try:\n",
    "        tex_img.transpose(np.random.randint(7))\n",
    "    except:\n",
    "        pass\n",
    "    return tex_img\n",
    "\n",
    "# ランダムなサイズにリサイズしたコインの配列を取得する\n",
    "def get_resized_coin_list(_coin_img_list):\n",
    "    # 硬貨のランダムの画像倍率にリサイズ\n",
    "    coin_size_rate = (MAX_COIN_SIZE_RATE - MIN_COIN_SIZE_RATE) * np.random.rand() + MIN_COIN_SIZE_RATE\n",
    "    #print coin_size_rate\n",
    "\n",
    "    # リサイズした画像の配列を作成\n",
    "    coin_resize_list = []\n",
    "    for img_ in _coin_img_list:\n",
    "        img = copy.copy(img_)\n",
    "        img[0] = img[0].resize((tuple(np.int32(np.array(img[0].size)*coin_size_rate))), Image.BICUBIC)\n",
    "        coin_resize_list.append(img)\n",
    "        #print img[0].size, img[1]\n",
    "    return coin_resize_list\n",
    "\n",
    "\n",
    "def get_shuffled_coin_list(_coin_resize_list):\n",
    "    # ランダムの硬貨の数だけ配列作成\n",
    "    coin_num = np.random.randint(1,MAX_COIN_NUM)\n",
    "    #print coin_num, \"coins\"\n",
    "\n",
    "    pop_coin_list = []\n",
    "    while len(pop_coin_list) < coin_num:\n",
    "        rand_img = _coin_resize_list[np.random.randint(len(_coin_resize_list))]\n",
    "        pop_coin_list.append(rand_img)\n",
    "        #print COIN_LABELS.get(str(rand_img[1])),\n",
    "    return pop_coin_list\n",
    "\n",
    "# ランダムに決めたコインの位置を返す\n",
    "def get_random_coin_pos(coin_size_w, coin_size_h, history_position = [],coin_size=0, overlap=True):\n",
    "    counter = 0\n",
    "    while counter < 100:\n",
    "        # 適当に場所を決める\n",
    "        paste_pos_w = np.random.randint(IMG_SIZE-coin_size_w)\n",
    "        paste_pos_h = np.random.randint(IMG_SIZE-coin_size_h)\n",
    "    \n",
    "        # 履歴コイン座標との距離を計測し、近すぎる場合はやりなおす\n",
    "        cont_flag = False\n",
    "        for hist_pos in history_position:\n",
    "            org_pos = np.array([paste_pos_w, paste_pos_h])\n",
    "            hist_pos = np.array(hist_pos[0])[0:2]\n",
    "            #print org_pos, hist_pos\n",
    "\n",
    "            distance = np.linalg.norm(org_pos - hist_pos)\n",
    "            # 75%以上は出るように調整\n",
    "            if overlap and distance < coin_size * MIN_COINS_DISTANCE_RATE:\n",
    "                #print \"retry! dist:\", distance\n",
    "                cont_flag = True\n",
    "                continue\n",
    "        if cont_flag == True:\n",
    "            counter += 1\n",
    "            continue\n",
    "        break\n",
    "    \n",
    "    return paste_pos_w, paste_pos_h    \n",
    "\n",
    "# 合成画像と配置場所の情報を作成する\n",
    "def get_dest_img(_pop_coin_list, overlap=True):\n",
    "    dest_img = tex_img.copy()\n",
    "    coin_pos_history = []\n",
    "    for img in _pop_coin_list:\n",
    "        paste_img = img[0]\n",
    "        paste_img = paste_img.rotate(np.random.randint(360), expand=RECT_EXPAND)\n",
    "        paste_img_w,paste_img_h = paste_img.size\n",
    "        paste_pos_w, paste_pos_h = get_random_coin_pos(paste_img_w,paste_img_h, coin_pos_history, paste_img_w, overlap=overlap)\n",
    "        dest_img.paste(paste_img, (paste_pos_w,paste_pos_h), paste_img.split()[-1])\n",
    "        coin_pos_history.append([[paste_pos_w, paste_pos_h,\n",
    "                                  paste_pos_w+paste_img_w, paste_pos_h+paste_img_h], img[1]])\n",
    "    if np.random.randint(3) == 0:\n",
    "        bright_rate = 0.9 - np.random.randint(5)/10.0\n",
    "    elif np.random.randint(3) == 1:\n",
    "        bright_rate = 1.1 + np.random.randint(5)/10.0\n",
    "    else:\n",
    "        bright_rate = 1.0\n",
    "    #print \"BRIGHT RATE :\", bright_rate\n",
    "    eim = ImageEnhance.Brightness(dest_img)\n",
    "    dest_img = eim.enhance(bright_rate)\n",
    "    return dest_img, coin_pos_history\n",
    "\n",
    "# 確認用：ラベルと外枠を描画する\n",
    "def draw_rectangle(img, _coin_pos_history):\n",
    "    dr = ImageDraw.Draw(img)\n",
    "    coin_sum = 0\n",
    "    for val in _coin_pos_history:\n",
    "        axiz,label = val\n",
    "        stp = (axiz[0],axiz[1])\n",
    "        edp = (axiz[2],axiz[3])\n",
    "        col = (255,0,0)\n",
    "        dr.rectangle((stp,edp),outline=col)\n",
    "        \n",
    "        coin_val = COIN_LABELS[label]\n",
    "        coin_sum += coin_val\n",
    "        dr.text(stp, str(COIN_LABELS[label]))\n",
    "    dr.text((0,0), \"COIN SUM = {}\".format(str(coin_sum)))\n",
    "    return img\n",
    "\n",
    "# xml出力用のアノテーションdictを作成\n",
    "def get_anno_xml(coin_pos_history):\n",
    "    anno_xml_dict = []\n",
    "    for each_coin in coin_pos_history:\n",
    "        anno_dict = {}\n",
    "        bbox = each_coin[0]\n",
    "        label_num = each_coin[1]\n",
    "        label = COIN_LABELS.get(str(label_num))\n",
    "        anno_dict[\"name\"] = label\n",
    "        anno_dict[\"difficult\"] = 0\n",
    "        anno_dict[\"bndbox\"] = {\n",
    "            \"xmin\":bbox[0],\n",
    "            \"ymin\":bbox[1],\n",
    "            \"xmax\":bbox[2],\n",
    "            \"ymax\":bbox[3],\n",
    "        }\n",
    "        anno_xml_dict.append(anno_dict)\n",
    "    my_item_func = lambda x: 'object'\n",
    "    xml = dicttoxml(anno_xml_dict, custom_root='annotation', attr_type=False, item_func=my_item_func)\n",
    "    return xml\n",
    "\n",
    "# xmlをファイルに出力する\n",
    "def make_xml(xml_str, filename):\n",
    "    e = ElementTree.fromstring(xml_str)\n",
    "\n",
    "    tree = ElementTree.ElementTree(e)\n",
    "    tree.write(filename)"
   ]
  },
  {
   "cell_type": "markdown",
   "metadata": {
    "slideshow": {
     "slide_type": "slide"
    }
   },
   "source": [
    "---\n",
    "\n",
    "## 1. 素材画像の読み込み"
   ]
  },
  {
   "cell_type": "code",
   "execution_count": 50,
   "metadata": {
    "slideshow": {
     "slide_type": "slide"
    }
   },
   "outputs": [],
   "source": [
    "DATASET_MODE = \"OSATU\"\n",
    "DATASET_MODE = \"COIN\""
   ]
  },
  {
   "cell_type": "code",
   "execution_count": 51,
   "metadata": {
    "slideshow": {
     "slide_type": "subslide"
    }
   },
   "outputs": [
    {
     "name": "stdout",
     "output_type": "stream",
     "text": [
      "Datasets  Mode : COIN\n"
     ]
    }
   ],
   "source": [
    "if DATASET_MODE == \"OSATU\":\n",
    "    # お札用\n",
    "    IMG_SIZE = 300\n",
    "    TEX_BASE_SIZE = 600\n",
    "\n",
    "    MIN_COIN_SIZE_RATE = 0.2\n",
    "    MAX_COIN_SIZE_RATE = 0.6\n",
    "    MAX_COIN_NUM = 4\n",
    "\n",
    "    MIN_COINS_DISTANCE_RATE = 0.8 # コインの重なりの許容値\n",
    "\n",
    "    COIN_LABELS = {\n",
    "        \"1\":1000,\n",
    "        \"2\":5000,\n",
    "        \"3\":10000,\n",
    "    }\n",
    "    COIN_IMG_PATH = \"japanese_coin/osatu\"\n",
    "    PAR_DIR = \"osatu\"\n",
    "    RECT_EXPAND = True\n",
    "else:\n",
    "    # コイン用\n",
    "    IMG_SIZE = 300\n",
    "    TEX_BASE_SIZE = 600\n",
    "\n",
    "    MIN_COIN_SIZE_RATE = 0.3\n",
    "    MAX_COIN_SIZE_RATE = 0.7\n",
    "    MAX_COIN_NUM = 7\n",
    "\n",
    "    MIN_COINS_DISTANCE_RATE = 0.7 # コインの重なりの許容値\n",
    "\n",
    "    COIN_LABELS = {\n",
    "        \"1\":1,\n",
    "        \"2\":5,\n",
    "        \"3\":10,\n",
    "        \"4\":50,\n",
    "        \"5\":100,\n",
    "        \"6\":500,\n",
    "    }\n",
    "    COIN_IMG_PATH = \"japanese_coin/coin\"\n",
    "    PAR_DIR = \"coin\"\n",
    "    RECT_EXPAND = False\n",
    "print (\"Datasets  Mode : \"+DATASET_MODE)"
   ]
  },
  {
   "cell_type": "code",
   "execution_count": 52,
   "metadata": {
    "slideshow": {
     "slide_type": "slide"
    }
   },
   "outputs": [],
   "source": [
    "TEX_IMG_PATH  = \"japanese_coin/tex\"\n",
    "\n",
    "IMG_DIR = os.path.join(PAR_DIR, \"JPEGImages\")\n",
    "ANN_DIR = os.path.join(PAR_DIR, \"Annotations\")\n",
    "TXT_DIR = os.path.join(PAR_DIR, \"ImageSets\")\n",
    "TXT_SUB_DIR = \"Main\""
   ]
  },
  {
   "cell_type": "code",
   "execution_count": 53,
   "metadata": {
    "slideshow": {
     "slide_type": "slide"
    }
   },
   "outputs": [],
   "source": [
    "coin_img_path_list = sorted(glob(COIN_IMG_PATH + \"/*\"))\n",
    "tex_img_path_list = sorted(glob(TEX_IMG_PATH + \"/*\"))"
   ]
  },
  {
   "cell_type": "code",
   "execution_count": 54,
   "metadata": {
    "slideshow": {
     "slide_type": "slide"
    }
   },
   "outputs": [
    {
     "name": "stdout",
     "output_type": "stream",
     "text": [
      "Coins:24 pisc, Back:55 pics\n"
     ]
    }
   ],
   "source": [
    "coin_img_list = []\n",
    "for val in coin_img_path_list:\n",
    "    img = Image.open(val)\n",
    "    lbl = img.filename.replace(\"_\",\"\")[-6]\n",
    "    img = img.convert(\"RGBA\")\n",
    "    if img.size[0] > 300:\n",
    "        img.thumbnail((300, 300), Image.ANTIALIAS)\n",
    "    coin_img_list.append([img, lbl])\n",
    "    #print lbl, img.size\n",
    "\n",
    "tex_img_list = []\n",
    "\n",
    "for i,val in enumerate(tex_img_path_list):\n",
    "    img = Image.open(val)\n",
    "    img = img.resize((TEX_BASE_SIZE,TEX_BASE_SIZE))\n",
    "    tex_img_list.append(img)\n",
    "\n",
    "print (\"Coins:{} pisc, Back:{} pics\".format(len(coin_img_list), len(tex_img_list)))"
   ]
  },
  {
   "cell_type": "markdown",
   "metadata": {},
   "source": [
    "## 2. 画像生成\n",
    "\n",
    "効果は以下の加工を行う\n",
    "\n",
    "- ランダム回転\n",
    "- ランダム拡大縮小\n",
    "- ランダム輝度\n",
    "- ランダム彩度"
   ]
  },
  {
   "cell_type": "markdown",
   "metadata": {},
   "source": [
    "### 2.1. 画像生成 1枚テスト\n",
    "\n",
    "ポップ時に配置済みコインとの距離を計測し、重ならないようにいい感じにしてあげる"
   ]
  },
  {
   "cell_type": "code",
   "execution_count": 104,
   "metadata": {
    "scrolled": true,
    "slideshow": {
     "slide_type": "slide"
    }
   },
   "outputs": [
    {
     "data": {
      "image/png": "[encoded data removed]",
      "text/plain": [
       "<PIL.Image.Image image mode=RGB size=300x300 at 0x2C95A730908>"
      ]
     },
     "execution_count": 104,
     "metadata": {},
     "output_type": "execute_result"
    }
   ],
   "source": [
    "# 背景取得\n",
    "tex_img = get_back_img(tex_img_list, is_rotate=True)\n",
    "\n",
    "# リサイズしたコイン画像取得\n",
    "coin_resize_list = get_resized_coin_list(coin_img_list)\n",
    "\n",
    "\n",
    "# 配置するコインリスト取得\n",
    "pop_coin_list = get_shuffled_coin_list(coin_resize_list)\n",
    "\n",
    "# ランダム配置のコイン画像と位置を取得\n",
    "dest_img, coin_pos_history = get_dest_img(pop_coin_list)\n",
    "# アノテーション取得\n",
    "out_xml = get_anno_xml(coin_pos_history)\n",
    "\n",
    "# 領域枠を描画\n",
    "draw_rectangle(dest_img, coin_pos_history)\n",
    "dest_img"
   ]
  },
  {
   "cell_type": "markdown",
   "metadata": {
    "slideshow": {
     "slide_type": "slide"
    }
   },
   "source": [
    "### 2.3. XML 出力確認"
   ]
  },
  {
   "cell_type": "code",
   "execution_count": 105,
   "metadata": {
    "scrolled": false,
    "slideshow": {
     "slide_type": "slide"
    }
   },
   "outputs": [
    {
     "name": "stdout",
     "output_type": "stream",
     "text": [
      "<?xml version=\"1.0\" ?>\n",
      "<annotation>\n",
      "\t<object>\n",
      "\t\t<difficult>0</difficult>\n",
      "\t\t<name>100</name>\n",
      "\t\t<bndbox>\n",
      "\t\t\t<ymax>188</ymax>\n",
      "\t\t\t<xmax>118</xmax>\n",
      "\t\t\t<ymin>120</ymin>\n",
      "\t\t\t<xmin>51</xmin>\n",
      "\t\t</bndbox>\n",
      "\t</object>\n",
      "</annotation>\n",
      "\n"
     ]
    }
   ],
   "source": [
    "dom = parseString(out_xml)\n",
    "print(dom.toprettyxml())"
   ]
  },
  {
   "cell_type": "markdown",
   "metadata": {
    "slideshow": {
     "slide_type": "slide"
    }
   },
   "source": [
    "## 3. 一括出力"
   ]
  },
  {
   "cell_type": "markdown",
   "metadata": {},
   "source": [
    "### 3.1. 出力ファイル構成\n",
    "\n",
    "VOCデータセットの形式ぽい感じで出力する\n",
    "\n",
    "- ./coin\n",
    "    - /JPEGImages **生成した画像**\n",
    "    - /Annotations **画像に対する領域情報xml**\n",
    "    - /ImageSets **train/valの振り分け情報**"
   ]
  },
  {
   "cell_type": "code",
   "execution_count": 106,
   "metadata": {
    "slideshow": {
     "slide_type": "slide"
    }
   },
   "outputs": [],
   "source": [
    "# 出力ディレクトリ作成\n",
    "if os.path.exists(IMG_DIR):\n",
    "    shutil.rmtree(IMG_DIR)\n",
    "os.mkdir(IMG_DIR)\n",
    "\n",
    "if os.path.exists(ANN_DIR):\n",
    "    shutil.rmtree(ANN_DIR)\n",
    "os.mkdir(ANN_DIR)\n",
    "\n",
    "if os.path.exists(TXT_DIR):\n",
    "    shutil.rmtree(TXT_DIR)\n",
    "os.mkdir(TXT_DIR)\n",
    "os.mkdir(os.path.join(TXT_DIR, TXT_SUB_DIR))"
   ]
  },
  {
   "cell_type": "markdown",
   "metadata": {},
   "source": [
    "### 3.2. 生成画像一括出力"
   ]
  },
  {
   "cell_type": "code",
   "execution_count": 107,
   "metadata": {
    "slideshow": {
     "slide_type": "slide"
    }
   },
   "outputs": [
    {
     "name": "stdout",
     "output_type": "stream",
     "text": [
      "20 images generated\n"
     ]
    }
   ],
   "source": [
    "GENERATE_NUM = 20\n",
    "out_img_name = \"coin_{0:04d}\"\n",
    "out_img_ext = \".jpg\"\n",
    "out_ann_ext = \".xml\"\n",
    "coin_counter = np.int32(np.zeros(len(COIN_LABELS)))\n",
    "train_test_list = {\"trainval\":[], \"test\":[]}\n",
    "for val in range(GENERATE_NUM):\n",
    "    # 背景取得\n",
    "    tex_img = get_back_img(tex_img_list, is_rotate=False)\n",
    "\n",
    "    # リサイズしたコイン画像取得\n",
    "    coin_resize_list = get_resized_coin_list(coin_img_list)\n",
    "\n",
    "    # 配置するコインリスト取得\n",
    "    pop_coin_list = get_shuffled_coin_list(coin_resize_list)\n",
    "\n",
    "    # ランダム配置のコイン画像と位置を取得\n",
    "    dest_img, coin_pos_history = get_dest_img(pop_coin_list)\n",
    "\n",
    "    # 領域枠を描画\n",
    "    #dest_img = draw_rectangle(dest_img, coin_pos_history)\n",
    "    \n",
    "    # 画像出力\n",
    "    dest_img.save(os.path.join(IMG_DIR, out_img_name.format(val) + out_img_ext))\n",
    "        \n",
    "    # アノテーション出力\n",
    "    out_xml = get_anno_xml(coin_pos_history)\n",
    "    make_xml(out_xml, os.path.join(ANN_DIR,out_img_name.format(val) + out_ann_ext))\n",
    "    \n",
    "    # 学習用/検証用のデータ分け\n",
    "    append_target = \"trainval\" if np.random.randint(2) == 0 else \"test\"\n",
    "    train_test_list[append_target].append(out_img_name.format(val)+\"\\n\")\n",
    "        \n",
    "    # 各枚数集計\n",
    "    for hist in coin_pos_history:\n",
    "        coin_counter[int(hist[1])-1] += 1\n",
    "        \n",
    "    # 進捗\n",
    "    if not val == 0 and val % 100 == 0:\n",
    "        print( \"{} images done\".format(val))\n",
    "print( \"{} images generated\".format(GENERATE_NUM))"
   ]
  },
  {
   "cell_type": "markdown",
   "metadata": {},
   "source": [
    "### 3.3. 生成結果確認"
   ]
  },
  {
   "cell_type": "code",
   "execution_count": 108,
   "metadata": {
    "slideshow": {
     "slide_type": "slide"
    }
   },
   "outputs": [
    {
     "name": "stdout",
     "output_type": "stream",
     "text": [
      "1:\t8 coins.\n",
      "5:\t10 coins.\n",
      "10:\t16 coins.\n",
      "50:\t9 coins.\n",
      "100:\t12 coins.\n",
      "500:\t12 coins.\n"
     ]
    }
   ],
   "source": [
    "# 各コインの分布確認\n",
    "for i,val in enumerate(coin_counter):\n",
    "    print (\"{}:\\t{} coins.\".format(COIN_LABELS[str(i+1)],val))"
   ]
  },
  {
   "cell_type": "markdown",
   "metadata": {
    "slideshow": {
     "slide_type": "slide"
    }
   },
   "source": [
    "### 3.4. 学習用、テスト用に画像をわける"
   ]
  },
  {
   "cell_type": "code",
   "execution_count": 109,
   "metadata": {},
   "outputs": [],
   "source": [
    "TRAINVAL_TXT_PATH = os.path.join(TXT_DIR, TXT_SUB_DIR,(\"trainval.txt\"))\n",
    "TEST_TXT_PATH     = os.path.join(TXT_DIR, TXT_SUB_DIR,(\"test.txt\"))\n",
    "\n",
    "with open(TRAINVAL_TXT_PATH, 'w') as f:\n",
    "      f.writelines(train_test_list[\"trainval\"])\n",
    "with open(TEST_TXT_PATH, 'w') as f:\n",
    "      f.writelines(train_test_list[\"test\"])"
   ]
  },
  {
   "cell_type": "markdown",
   "metadata": {
    "slideshow": {
     "slide_type": "slide"
    }
   },
   "source": [
    "---"
   ]
  },
  {
   "cell_type": "markdown",
   "metadata": {
    "slideshow": {
     "slide_type": "slide"
    }
   },
   "source": [
    "## 4. Chainer のデータセットとして読み込みテスト\n",
    "\n",
    "ChainerCV の voc_bbox_dataset.py はそのままだとVOCデータセット2012の20クラス固定となっているので、外部で定義できるように改造した lib.voc_bbox_dataset を使う"
   ]
  },
  {
   "cell_type": "code",
   "execution_count": 110,
   "metadata": {
    "slideshow": {
     "slide_type": "slide"
    }
   },
   "outputs": [],
   "source": [
    "from lib.voc_bbox_dataset import VOCBboxDataset"
   ]
  },
  {
   "cell_type": "code",
   "execution_count": 111,
   "metadata": {
    "scrolled": true,
    "slideshow": {
     "slide_type": "slide"
    }
   },
   "outputs": [
    {
     "data": {
      "text/plain": [
       "(11, 9)"
      ]
     },
     "execution_count": 111,
     "metadata": {},
     "output_type": "execute_result"
    }
   ],
   "source": [
    "train = VOCBboxDataset(data_dir=PAR_DIR, split='trainval')\n",
    "test = VOCBboxDataset(data_dir=PAR_DIR, split='test', use_difficult=True, return_difficult=True)\n",
    "len(train), len(test)"
   ]
  },
  {
   "cell_type": "code",
   "execution_count": null,
   "metadata": {},
   "outputs": [],
   "source": []
  },
  {
   "cell_type": "code",
   "execution_count": null,
   "metadata": {
    "collapsed": true
   },
   "outputs": [],
   "source": []
  }
 ],
 "metadata": {
  "kernelspec": {
   "display_name": "Python 3",
   "language": "python",
   "name": "python3"
  },
  "language_info": {
   "codemirror_mode": {
    "name": "ipython",
    "version": 3
   },
   "file_extension": ".py",
   "mimetype": "text/x-python",
   "name": "python",
   "nbconvert_exporter": "python",
   "pygments_lexer": "ipython3",
   "version": "3.5.5"
  }
 },
 "nbformat": 4,
 "nbformat_minor": 2
}
